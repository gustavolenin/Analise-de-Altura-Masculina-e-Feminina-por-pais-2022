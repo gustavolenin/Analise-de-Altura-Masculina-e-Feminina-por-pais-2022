{
 "cells": [
  {
   "cell_type": "code",
   "execution_count": 1,
   "id": "8ed97c69",
   "metadata": {
    "_cell_guid": "b1076dfc-b9ad-4769-8c92-a6c4dae69d19",
    "_uuid": "8f2839f25d086af736a60e9eeb907d3b93b6e0e5",
    "execution": {
     "iopub.execute_input": "2022-07-19T22:53:41.883412Z",
     "iopub.status.busy": "2022-07-19T22:53:41.882876Z",
     "iopub.status.idle": "2022-07-19T22:53:43.093577Z",
     "shell.execute_reply": "2022-07-19T22:53:43.092791Z",
     "shell.execute_reply.started": "2022-07-19T22:48:31.026706Z"
    },
    "papermill": {
     "duration": 1.244087,
     "end_time": "2022-07-19T22:53:43.093703",
     "exception": false,
     "start_time": "2022-07-19T22:53:41.849616",
     "status": "completed"
    },
    "tags": []
   },
   "outputs": [],
   "source": [
    "import numpy as np \n",
    "import pandas as pd \n",
    "import seaborn as sns\n",
    "import matplotlib.pyplot as plt"
   ]
  },
  {
   "cell_type": "markdown",
   "id": "17acce8b",
   "metadata": {
    "papermill": {
     "duration": 0.021997,
     "end_time": "2022-07-19T22:53:43.138676",
     "exception": false,
     "start_time": "2022-07-19T22:53:43.116679",
     "status": "completed"
    },
    "tags": []
   },
   "source": [
    "# Extração de Dados"
   ]
  },
  {
   "cell_type": "code",
   "execution_count": 2,
   "id": "54642595",
   "metadata": {
    "execution": {
     "iopub.execute_input": "2022-07-19T22:53:43.194613Z",
     "iopub.status.busy": "2022-07-19T22:53:43.194019Z",
     "iopub.status.idle": "2022-07-19T22:53:43.226965Z",
     "shell.execute_reply": "2022-07-19T22:53:43.227506Z",
     "shell.execute_reply.started": "2022-07-19T22:48:32.266340Z"
    },
    "papermill": {
     "duration": 0.066646,
     "end_time": "2022-07-19T22:53:43.227666",
     "exception": false,
     "start_time": "2022-07-19T22:53:43.161020",
     "status": "completed"
    },
    "tags": []
   },
   "outputs": [
    {
     "data": {
      "text/html": [
       "<div>\n",
       "<style scoped>\n",
       "    .dataframe tbody tr th:only-of-type {\n",
       "        vertical-align: middle;\n",
       "    }\n",
       "\n",
       "    .dataframe tbody tr th {\n",
       "        vertical-align: top;\n",
       "    }\n",
       "\n",
       "    .dataframe thead th {\n",
       "        text-align: right;\n",
       "    }\n",
       "</style>\n",
       "<table border=\"1\" class=\"dataframe\">\n",
       "  <thead>\n",
       "    <tr style=\"text-align: right;\">\n",
       "      <th></th>\n",
       "      <th>Rank</th>\n",
       "      <th>Country Name</th>\n",
       "      <th>Male Height in Cm</th>\n",
       "      <th>Female Height in Cm</th>\n",
       "      <th>Male Height in Ft</th>\n",
       "      <th>Female Height in Ft</th>\n",
       "    </tr>\n",
       "  </thead>\n",
       "  <tbody>\n",
       "    <tr>\n",
       "      <th>0</th>\n",
       "      <td>1</td>\n",
       "      <td>Netherlands</td>\n",
       "      <td>183.78</td>\n",
       "      <td>170.36</td>\n",
       "      <td>6.03</td>\n",
       "      <td>5.59</td>\n",
       "    </tr>\n",
       "    <tr>\n",
       "      <th>1</th>\n",
       "      <td>2</td>\n",
       "      <td>Montenegro</td>\n",
       "      <td>183.30</td>\n",
       "      <td>169.96</td>\n",
       "      <td>6.01</td>\n",
       "      <td>5.58</td>\n",
       "    </tr>\n",
       "    <tr>\n",
       "      <th>2</th>\n",
       "      <td>3</td>\n",
       "      <td>Estonia</td>\n",
       "      <td>182.79</td>\n",
       "      <td>168.66</td>\n",
       "      <td>6.00</td>\n",
       "      <td>5.53</td>\n",
       "    </tr>\n",
       "    <tr>\n",
       "      <th>3</th>\n",
       "      <td>4</td>\n",
       "      <td>Bosnia and Herzegovina</td>\n",
       "      <td>182.47</td>\n",
       "      <td>167.47</td>\n",
       "      <td>5.99</td>\n",
       "      <td>5.49</td>\n",
       "    </tr>\n",
       "    <tr>\n",
       "      <th>4</th>\n",
       "      <td>5</td>\n",
       "      <td>Iceland</td>\n",
       "      <td>182.10</td>\n",
       "      <td>168.91</td>\n",
       "      <td>5.97</td>\n",
       "      <td>5.54</td>\n",
       "    </tr>\n",
       "  </tbody>\n",
       "</table>\n",
       "</div>"
      ],
      "text/plain": [
       "   Rank            Country Name  Male Height in Cm  Female Height in Cm  \\\n",
       "0     1             Netherlands             183.78               170.36   \n",
       "1     2              Montenegro             183.30               169.96   \n",
       "2     3                 Estonia             182.79               168.66   \n",
       "3     4  Bosnia and Herzegovina             182.47               167.47   \n",
       "4     5                 Iceland             182.10               168.91   \n",
       "\n",
       "   Male Height in Ft  Female Height in Ft  \n",
       "0               6.03                 5.59  \n",
       "1               6.01                 5.58  \n",
       "2               6.00                 5.53  \n",
       "3               5.99                 5.49  \n",
       "4               5.97                 5.54  "
      ]
     },
     "execution_count": 2,
     "metadata": {},
     "output_type": "execute_result"
    }
   ],
   "source": [
    "df = pd.read_csv('/kaggle/input/height-of-male-and-female-by-country-2022/Height of Male and Female by Country 2022.csv')\n",
    "df.head()"
   ]
  },
  {
   "cell_type": "markdown",
   "id": "c1c69756",
   "metadata": {
    "papermill": {
     "duration": 0.035308,
     "end_time": "2022-07-19T22:53:43.299625",
     "exception": false,
     "start_time": "2022-07-19T22:53:43.264317",
     "status": "completed"
    },
    "tags": []
   },
   "source": [
    "# Análise Exploratória de Dados"
   ]
  },
  {
   "cell_type": "code",
   "execution_count": 3,
   "id": "047bef33",
   "metadata": {
    "execution": {
     "iopub.execute_input": "2022-07-19T22:53:43.375083Z",
     "iopub.status.busy": "2022-07-19T22:53:43.374243Z",
     "iopub.status.idle": "2022-07-19T22:53:43.394998Z",
     "shell.execute_reply": "2022-07-19T22:53:43.394526Z",
     "shell.execute_reply.started": "2022-07-19T22:48:32.313683Z"
    },
    "papermill": {
     "duration": 0.060017,
     "end_time": "2022-07-19T22:53:43.395102",
     "exception": false,
     "start_time": "2022-07-19T22:53:43.335085",
     "status": "completed"
    },
    "tags": []
   },
   "outputs": [
    {
     "data": {
      "text/html": [
       "<div>\n",
       "<style scoped>\n",
       "    .dataframe tbody tr th:only-of-type {\n",
       "        vertical-align: middle;\n",
       "    }\n",
       "\n",
       "    .dataframe tbody tr th {\n",
       "        vertical-align: top;\n",
       "    }\n",
       "\n",
       "    .dataframe thead th {\n",
       "        text-align: right;\n",
       "    }\n",
       "</style>\n",
       "<table border=\"1\" class=\"dataframe\">\n",
       "  <thead>\n",
       "    <tr style=\"text-align: right;\">\n",
       "      <th></th>\n",
       "      <th>Country Name</th>\n",
       "    </tr>\n",
       "  </thead>\n",
       "  <tbody>\n",
       "    <tr>\n",
       "      <th>count</th>\n",
       "      <td>199</td>\n",
       "    </tr>\n",
       "    <tr>\n",
       "      <th>unique</th>\n",
       "      <td>199</td>\n",
       "    </tr>\n",
       "    <tr>\n",
       "      <th>top</th>\n",
       "      <td>Netherlands</td>\n",
       "    </tr>\n",
       "    <tr>\n",
       "      <th>freq</th>\n",
       "      <td>1</td>\n",
       "    </tr>\n",
       "  </tbody>\n",
       "</table>\n",
       "</div>"
      ],
      "text/plain": [
       "       Country Name\n",
       "count           199\n",
       "unique          199\n",
       "top     Netherlands\n",
       "freq              1"
      ]
     },
     "execution_count": 3,
     "metadata": {},
     "output_type": "execute_result"
    }
   ],
   "source": [
    "# Descreve informações a respeito da variável categórica (Nome do país)\n",
    "df.describe(include = 'object')"
   ]
  },
  {
   "cell_type": "code",
   "execution_count": 4,
   "id": "7852730d",
   "metadata": {
    "execution": {
     "iopub.execute_input": "2022-07-19T22:53:43.449466Z",
     "iopub.status.busy": "2022-07-19T22:53:43.448886Z",
     "iopub.status.idle": "2022-07-19T22:53:43.451477Z",
     "shell.execute_reply": "2022-07-19T22:53:43.451860Z",
     "shell.execute_reply.started": "2022-07-19T22:48:32.341751Z"
    },
    "papermill": {
     "duration": 0.032263,
     "end_time": "2022-07-19T22:53:43.452000",
     "exception": false,
     "start_time": "2022-07-19T22:53:43.419737",
     "status": "completed"
    },
    "tags": []
   },
   "outputs": [
    {
     "data": {
      "text/plain": [
       "(199, 6)"
      ]
     },
     "execution_count": 4,
     "metadata": {},
     "output_type": "execute_result"
    }
   ],
   "source": [
    "# Checa o shape do dataset\n",
    "df.shape"
   ]
  },
  {
   "cell_type": "code",
   "execution_count": 5,
   "id": "d08f0ab4",
   "metadata": {
    "execution": {
     "iopub.execute_input": "2022-07-19T22:53:43.505632Z",
     "iopub.status.busy": "2022-07-19T22:53:43.504020Z",
     "iopub.status.idle": "2022-07-19T22:53:43.509458Z",
     "shell.execute_reply": "2022-07-19T22:53:43.508875Z",
     "shell.execute_reply.started": "2022-07-19T22:48:32.354224Z"
    },
    "papermill": {
     "duration": 0.032862,
     "end_time": "2022-07-19T22:53:43.509581",
     "exception": false,
     "start_time": "2022-07-19T22:53:43.476719",
     "status": "completed"
    },
    "tags": []
   },
   "outputs": [
    {
     "data": {
      "text/plain": [
       "Index(['Rank', 'Country Name', 'Male Height in Cm', 'Female Height in Cm',\n",
       "       'Male Height in Ft', 'Female Height in Ft'],\n",
       "      dtype='object')"
      ]
     },
     "execution_count": 5,
     "metadata": {},
     "output_type": "execute_result"
    }
   ],
   "source": [
    "# Checa o nome de todas as colunas\n",
    "df.columns"
   ]
  },
  {
   "cell_type": "code",
   "execution_count": 6,
   "id": "8a86f0f0",
   "metadata": {
    "execution": {
     "iopub.execute_input": "2022-07-19T22:53:43.560793Z",
     "iopub.status.busy": "2022-07-19T22:53:43.560275Z",
     "iopub.status.idle": "2022-07-19T22:53:43.565923Z",
     "shell.execute_reply": "2022-07-19T22:53:43.566391Z",
     "shell.execute_reply.started": "2022-07-19T22:48:32.367925Z"
    },
    "papermill": {
     "duration": 0.033224,
     "end_time": "2022-07-19T22:53:43.566538",
     "exception": false,
     "start_time": "2022-07-19T22:53:43.533314",
     "status": "completed"
    },
    "tags": []
   },
   "outputs": [
    {
     "data": {
      "text/plain": [
       "Rank                     int64\n",
       "Country Name            object\n",
       "Male Height in Cm      float64\n",
       "Female Height in Cm    float64\n",
       "Male Height in Ft      float64\n",
       "Female Height in Ft    float64\n",
       "dtype: object"
      ]
     },
     "execution_count": 6,
     "metadata": {},
     "output_type": "execute_result"
    }
   ],
   "source": [
    "# Informa o tipo de dado em cada uma das colunas\n",
    "df.dtypes"
   ]
  },
  {
   "cell_type": "code",
   "execution_count": 7,
   "id": "8807c9d1",
   "metadata": {
    "execution": {
     "iopub.execute_input": "2022-07-19T22:53:43.622409Z",
     "iopub.status.busy": "2022-07-19T22:53:43.621866Z",
     "iopub.status.idle": "2022-07-19T22:53:43.624904Z",
     "shell.execute_reply": "2022-07-19T22:53:43.624411Z",
     "shell.execute_reply.started": "2022-07-19T22:48:32.384012Z"
    },
    "papermill": {
     "duration": 0.034205,
     "end_time": "2022-07-19T22:53:43.625011",
     "exception": false,
     "start_time": "2022-07-19T22:53:43.590806",
     "status": "completed"
    },
    "tags": []
   },
   "outputs": [
    {
     "data": {
      "text/plain": [
       "Rank                   0\n",
       "Country Name           0\n",
       "Male Height in Cm      0\n",
       "Female Height in Cm    0\n",
       "Male Height in Ft      0\n",
       "Female Height in Ft    0\n",
       "dtype: int64"
      ]
     },
     "execution_count": 7,
     "metadata": {},
     "output_type": "execute_result"
    }
   ],
   "source": [
    "# Informa se há algum dado faltante no dataset\n",
    "df.isnull().sum()"
   ]
  },
  {
   "cell_type": "code",
   "execution_count": 8,
   "id": "886bf59c",
   "metadata": {
    "execution": {
     "iopub.execute_input": "2022-07-19T22:53:43.678990Z",
     "iopub.status.busy": "2022-07-19T22:53:43.678470Z",
     "iopub.status.idle": "2022-07-19T22:53:43.688028Z",
     "shell.execute_reply": "2022-07-19T22:53:43.688520Z",
     "shell.execute_reply.started": "2022-07-19T22:48:32.401275Z"
    },
    "papermill": {
     "duration": 0.038391,
     "end_time": "2022-07-19T22:53:43.688656",
     "exception": false,
     "start_time": "2022-07-19T22:53:43.650265",
     "status": "completed"
    },
    "tags": []
   },
   "outputs": [
    {
     "data": {
      "text/plain": [
       "(199, 6)"
      ]
     },
     "execution_count": 8,
     "metadata": {},
     "output_type": "execute_result"
    }
   ],
   "source": [
    "# Elimina possíveis linhas duplicadas \n",
    "df.drop_duplicates(subset='Country Name', inplace=True)\n",
    "df.shape"
   ]
  },
  {
   "cell_type": "markdown",
   "id": "28b5cc3b",
   "metadata": {
    "papermill": {
     "duration": 0.024475,
     "end_time": "2022-07-19T22:53:43.738969",
     "exception": false,
     "start_time": "2022-07-19T22:53:43.714494",
     "status": "completed"
    },
    "tags": []
   },
   "source": [
    "Nesta análise consideraremos os dados informados em centímetros (\"Cm\"), então retiraremos do dataset as colunas que possuam informações em pés (\"Ft\")"
   ]
  },
  {
   "cell_type": "code",
   "execution_count": 9,
   "id": "64027276",
   "metadata": {
    "execution": {
     "iopub.execute_input": "2022-07-19T22:53:43.791611Z",
     "iopub.status.busy": "2022-07-19T22:53:43.791068Z",
     "iopub.status.idle": "2022-07-19T22:53:43.803895Z",
     "shell.execute_reply": "2022-07-19T22:53:43.804292Z",
     "shell.execute_reply.started": "2022-07-19T22:48:32.414576Z"
    },
    "papermill": {
     "duration": 0.040959,
     "end_time": "2022-07-19T22:53:43.804440",
     "exception": false,
     "start_time": "2022-07-19T22:53:43.763481",
     "status": "completed"
    },
    "tags": []
   },
   "outputs": [
    {
     "data": {
      "text/html": [
       "<div>\n",
       "<style scoped>\n",
       "    .dataframe tbody tr th:only-of-type {\n",
       "        vertical-align: middle;\n",
       "    }\n",
       "\n",
       "    .dataframe tbody tr th {\n",
       "        vertical-align: top;\n",
       "    }\n",
       "\n",
       "    .dataframe thead th {\n",
       "        text-align: right;\n",
       "    }\n",
       "</style>\n",
       "<table border=\"1\" class=\"dataframe\">\n",
       "  <thead>\n",
       "    <tr style=\"text-align: right;\">\n",
       "      <th></th>\n",
       "      <th>Rank</th>\n",
       "      <th>Country Name</th>\n",
       "      <th>Male Height in Cm</th>\n",
       "      <th>Female Height in Cm</th>\n",
       "    </tr>\n",
       "  </thead>\n",
       "  <tbody>\n",
       "    <tr>\n",
       "      <th>0</th>\n",
       "      <td>1</td>\n",
       "      <td>Netherlands</td>\n",
       "      <td>183.78</td>\n",
       "      <td>170.36</td>\n",
       "    </tr>\n",
       "    <tr>\n",
       "      <th>1</th>\n",
       "      <td>2</td>\n",
       "      <td>Montenegro</td>\n",
       "      <td>183.30</td>\n",
       "      <td>169.96</td>\n",
       "    </tr>\n",
       "    <tr>\n",
       "      <th>2</th>\n",
       "      <td>3</td>\n",
       "      <td>Estonia</td>\n",
       "      <td>182.79</td>\n",
       "      <td>168.66</td>\n",
       "    </tr>\n",
       "    <tr>\n",
       "      <th>3</th>\n",
       "      <td>4</td>\n",
       "      <td>Bosnia and Herzegovina</td>\n",
       "      <td>182.47</td>\n",
       "      <td>167.47</td>\n",
       "    </tr>\n",
       "    <tr>\n",
       "      <th>4</th>\n",
       "      <td>5</td>\n",
       "      <td>Iceland</td>\n",
       "      <td>182.10</td>\n",
       "      <td>168.91</td>\n",
       "    </tr>\n",
       "  </tbody>\n",
       "</table>\n",
       "</div>"
      ],
      "text/plain": [
       "   Rank            Country Name  Male Height in Cm  Female Height in Cm\n",
       "0     1             Netherlands             183.78               170.36\n",
       "1     2              Montenegro             183.30               169.96\n",
       "2     3                 Estonia             182.79               168.66\n",
       "3     4  Bosnia and Herzegovina             182.47               167.47\n",
       "4     5                 Iceland             182.10               168.91"
      ]
     },
     "execution_count": 9,
     "metadata": {},
     "output_type": "execute_result"
    }
   ],
   "source": [
    "df.drop(['Male Height in Ft','Female Height in Ft'], axis=1, inplace=True)\n",
    "df.head()"
   ]
  },
  {
   "cell_type": "code",
   "execution_count": 10,
   "id": "c0a2d570",
   "metadata": {
    "execution": {
     "iopub.execute_input": "2022-07-19T22:53:43.859920Z",
     "iopub.status.busy": "2022-07-19T22:53:43.859418Z",
     "iopub.status.idle": "2022-07-19T22:53:43.868376Z",
     "shell.execute_reply": "2022-07-19T22:53:43.868843Z",
     "shell.execute_reply.started": "2022-07-19T22:48:32.438195Z"
    },
    "papermill": {
     "duration": 0.039426,
     "end_time": "2022-07-19T22:53:43.868981",
     "exception": false,
     "start_time": "2022-07-19T22:53:43.829555",
     "status": "completed"
    },
    "tags": []
   },
   "outputs": [
    {
     "data": {
      "text/html": [
       "<div>\n",
       "<style scoped>\n",
       "    .dataframe tbody tr th:only-of-type {\n",
       "        vertical-align: middle;\n",
       "    }\n",
       "\n",
       "    .dataframe tbody tr th {\n",
       "        vertical-align: top;\n",
       "    }\n",
       "\n",
       "    .dataframe thead th {\n",
       "        text-align: right;\n",
       "    }\n",
       "</style>\n",
       "<table border=\"1\" class=\"dataframe\">\n",
       "  <thead>\n",
       "    <tr style=\"text-align: right;\">\n",
       "      <th></th>\n",
       "      <th>Male Height in Cm</th>\n",
       "      <th>Female Height in Cm</th>\n",
       "    </tr>\n",
       "  </thead>\n",
       "  <tbody>\n",
       "    <tr>\n",
       "      <th>Male Height in Cm</th>\n",
       "      <td>1.000000</td>\n",
       "      <td>0.928787</td>\n",
       "    </tr>\n",
       "    <tr>\n",
       "      <th>Female Height in Cm</th>\n",
       "      <td>0.928787</td>\n",
       "      <td>1.000000</td>\n",
       "    </tr>\n",
       "  </tbody>\n",
       "</table>\n",
       "</div>"
      ],
      "text/plain": [
       "                     Male Height in Cm  Female Height in Cm\n",
       "Male Height in Cm             1.000000             0.928787\n",
       "Female Height in Cm           0.928787             1.000000"
      ]
     },
     "execution_count": 10,
     "metadata": {},
     "output_type": "execute_result"
    }
   ],
   "source": [
    "new_df = df.iloc[:,1::]\n",
    "# Checa a correlação entre cada uma das variáveis (Altura Masculina e Altura Feminina)\n",
    "new_df.corr()\n"
   ]
  },
  {
   "cell_type": "code",
   "execution_count": 11,
   "id": "278e99be",
   "metadata": {
    "execution": {
     "iopub.execute_input": "2022-07-19T22:53:43.924463Z",
     "iopub.status.busy": "2022-07-19T22:53:43.923882Z",
     "iopub.status.idle": "2022-07-19T22:53:44.128395Z",
     "shell.execute_reply": "2022-07-19T22:53:44.128829Z",
     "shell.execute_reply.started": "2022-07-19T22:48:32.453244Z"
    },
    "papermill": {
     "duration": 0.233906,
     "end_time": "2022-07-19T22:53:44.128969",
     "exception": false,
     "start_time": "2022-07-19T22:53:43.895063",
     "status": "completed"
    },
    "tags": []
   },
   "outputs": [
    {
     "data": {
      "image/png": "[encoded data removed]",
      "text/plain": [
       "<Figure size 432x288 with 2 Axes>"
      ]
     },
     "metadata": {
      "needs_background": "light"
     },
     "output_type": "display_data"
    }
   ],
   "source": [
    "# Visualiza a correlação entre cada uma das variáveis utilizando o coeficiente de correlação de pearson\n",
    "\n",
    "sns.heatmap(new_df.corr(), vmax = 1, linewidths = 0.9, cmap = 'viridis')\n",
    "plt.title('Pearson Correlation', fontsize = 15, pad = 12)\n",
    "plt.show()"
   ]
  },
  {
   "cell_type": "markdown",
   "id": "b75edd65",
   "metadata": {
    "papermill": {
     "duration": 0.02807,
     "end_time": "2022-07-19T22:53:44.184063",
     "exception": false,
     "start_time": "2022-07-19T22:53:44.155993",
     "status": "completed"
    },
    "tags": []
   },
   "source": [
    "# **Países com maior altura entre os homens:**"
   ]
  },
  {
   "cell_type": "markdown",
   "id": "4e9c5674",
   "metadata": {
    "papermill": {
     "duration": 0.026373,
     "end_time": "2022-07-19T22:53:44.237972",
     "exception": false,
     "start_time": "2022-07-19T22:53:44.211599",
     "status": "completed"
    },
    "tags": []
   },
   "source": [
    "**5 países com maior altura entre os homens**"
   ]
  },
  {
   "cell_type": "code",
   "execution_count": 12,
   "id": "25b133dc",
   "metadata": {
    "execution": {
     "iopub.execute_input": "2022-07-19T22:53:44.294490Z",
     "iopub.status.busy": "2022-07-19T22:53:44.293982Z",
     "iopub.status.idle": "2022-07-19T22:53:44.507153Z",
     "shell.execute_reply": "2022-07-19T22:53:44.507709Z",
     "shell.execute_reply.started": "2022-07-19T22:48:32.700606Z"
    },
    "papermill": {
     "duration": 0.243681,
     "end_time": "2022-07-19T22:53:44.508107",
     "exception": false,
     "start_time": "2022-07-19T22:53:44.264426",
     "status": "completed"
    },
    "tags": []
   },
   "outputs": [
    {
     "data": {
      "text/html": [
       "<div>\n",
       "<style scoped>\n",
       "    .dataframe tbody tr th:only-of-type {\n",
       "        vertical-align: middle;\n",
       "    }\n",
       "\n",
       "    .dataframe tbody tr th {\n",
       "        vertical-align: top;\n",
       "    }\n",
       "\n",
       "    .dataframe thead th {\n",
       "        text-align: right;\n",
       "    }\n",
       "</style>\n",
       "<table border=\"1\" class=\"dataframe\">\n",
       "  <thead>\n",
       "    <tr style=\"text-align: right;\">\n",
       "      <th></th>\n",
       "      <th>Rank</th>\n",
       "      <th>Country Name</th>\n",
       "      <th>Male Height in Cm</th>\n",
       "    </tr>\n",
       "  </thead>\n",
       "  <tbody>\n",
       "    <tr>\n",
       "      <th>0</th>\n",
       "      <td>1</td>\n",
       "      <td>Netherlands</td>\n",
       "      <td>183.78</td>\n",
       "    </tr>\n",
       "    <tr>\n",
       "      <th>1</th>\n",
       "      <td>2</td>\n",
       "      <td>Montenegro</td>\n",
       "      <td>183.30</td>\n",
       "    </tr>\n",
       "    <tr>\n",
       "      <th>2</th>\n",
       "      <td>3</td>\n",
       "      <td>Estonia</td>\n",
       "      <td>182.79</td>\n",
       "    </tr>\n",
       "    <tr>\n",
       "      <th>3</th>\n",
       "      <td>4</td>\n",
       "      <td>Bosnia and Herzegovina</td>\n",
       "      <td>182.47</td>\n",
       "    </tr>\n",
       "    <tr>\n",
       "      <th>4</th>\n",
       "      <td>5</td>\n",
       "      <td>Iceland</td>\n",
       "      <td>182.10</td>\n",
       "    </tr>\n",
       "  </tbody>\n",
       "</table>\n",
       "</div>"
      ],
      "text/plain": [
       "   Rank            Country Name  Male Height in Cm\n",
       "0     1             Netherlands             183.78\n",
       "1     2              Montenegro             183.30\n",
       "2     3                 Estonia             182.79\n",
       "3     4  Bosnia and Herzegovina             182.47\n",
       "4     5                 Iceland             182.10"
      ]
     },
     "execution_count": 12,
     "metadata": {},
     "output_type": "execute_result"
    },
    {
     "data": {
      "image/png": "[encoded data removed]",
      "text/plain": [
       "<Figure size 432x288 with 1 Axes>"
      ]
     },
     "metadata": {},
     "output_type": "display_data"
    }
   ],
   "source": [
    "hightest_male = df.drop('Female Height in Cm',axis=1)\n",
    "hightest_male = hightest_male.sort_values(by=['Male Height in Cm'],ascending=False)\n",
    "sns.set_theme(style=\"whitegrid\")\n",
    "ax = sns.barplot(x=hightest_male[\"Country Name\"][:5], y=hightest_male[\"Male Height in Cm\"][:5], data=hightest_male,color='red')\n",
    "ax.set_xticklabels(ax.get_xticklabels(),rotation = 90)\n",
    "plt.ylim(ymin=180,ymax=184)\n",
    "hightest_male.head()"
   ]
  },
  {
   "cell_type": "markdown",
   "id": "8e2fbce3",
   "metadata": {
    "papermill": {
     "duration": 0.042263,
     "end_time": "2022-07-19T22:53:44.593618",
     "exception": false,
     "start_time": "2022-07-19T22:53:44.551355",
     "status": "completed"
    },
    "tags": []
   },
   "source": [
    "# **Países com maior altura entre as mulheres:**"
   ]
  },
  {
   "cell_type": "markdown",
   "id": "6cb529cd",
   "metadata": {
    "papermill": {
     "duration": 0.042189,
     "end_time": "2022-07-19T22:53:44.678305",
     "exception": false,
     "start_time": "2022-07-19T22:53:44.636116",
     "status": "completed"
    },
    "tags": []
   },
   "source": [
    "**5 países com maior altura entre as mulheres**"
   ]
  },
  {
   "cell_type": "code",
   "execution_count": 13,
   "id": "bffa64e4",
   "metadata": {
    "execution": {
     "iopub.execute_input": "2022-07-19T22:53:44.771960Z",
     "iopub.status.busy": "2022-07-19T22:53:44.769314Z",
     "iopub.status.idle": "2022-07-19T22:53:44.954202Z",
     "shell.execute_reply": "2022-07-19T22:53:44.953661Z",
     "shell.execute_reply.started": "2022-07-19T22:48:32.947889Z"
    },
    "papermill": {
     "duration": 0.233497,
     "end_time": "2022-07-19T22:53:44.954350",
     "exception": false,
     "start_time": "2022-07-19T22:53:44.720853",
     "status": "completed"
    },
    "tags": []
   },
   "outputs": [
    {
     "data": {
      "text/html": [
       "<div>\n",
       "<style scoped>\n",
       "    .dataframe tbody tr th:only-of-type {\n",
       "        vertical-align: middle;\n",
       "    }\n",
       "\n",
       "    .dataframe tbody tr th {\n",
       "        vertical-align: top;\n",
       "    }\n",
       "\n",
       "    .dataframe thead th {\n",
       "        text-align: right;\n",
       "    }\n",
       "</style>\n",
       "<table border=\"1\" class=\"dataframe\">\n",
       "  <thead>\n",
       "    <tr style=\"text-align: right;\">\n",
       "      <th></th>\n",
       "      <th>Rank</th>\n",
       "      <th>Country Name</th>\n",
       "      <th>Female Height in Cm</th>\n",
       "    </tr>\n",
       "  </thead>\n",
       "  <tbody>\n",
       "    <tr>\n",
       "      <th>0</th>\n",
       "      <td>1</td>\n",
       "      <td>Netherlands</td>\n",
       "      <td>170.36</td>\n",
       "    </tr>\n",
       "    <tr>\n",
       "      <th>1</th>\n",
       "      <td>2</td>\n",
       "      <td>Montenegro</td>\n",
       "      <td>169.96</td>\n",
       "    </tr>\n",
       "    <tr>\n",
       "      <th>5</th>\n",
       "      <td>6</td>\n",
       "      <td>Denmark</td>\n",
       "      <td>169.47</td>\n",
       "    </tr>\n",
       "    <tr>\n",
       "      <th>4</th>\n",
       "      <td>5</td>\n",
       "      <td>Iceland</td>\n",
       "      <td>168.91</td>\n",
       "    </tr>\n",
       "    <tr>\n",
       "      <th>7</th>\n",
       "      <td>8</td>\n",
       "      <td>Latvia</td>\n",
       "      <td>168.81</td>\n",
       "    </tr>\n",
       "  </tbody>\n",
       "</table>\n",
       "</div>"
      ],
      "text/plain": [
       "   Rank Country Name  Female Height in Cm\n",
       "0     1  Netherlands               170.36\n",
       "1     2   Montenegro               169.96\n",
       "5     6      Denmark               169.47\n",
       "4     5      Iceland               168.91\n",
       "7     8       Latvia               168.81"
      ]
     },
     "execution_count": 13,
     "metadata": {},
     "output_type": "execute_result"
    },
    {
     "data": {
      "image/png": "[encoded data removed]",
      "text/plain": [
       "<Figure size 432x288 with 1 Axes>"
      ]
     },
     "metadata": {},
     "output_type": "display_data"
    }
   ],
   "source": [
    "hightest_female = df.drop('Male Height in Cm',axis=1)\n",
    "hightest_female = hightest_female.sort_values(by=['Female Height in Cm'],ascending=False)\n",
    "sns.set_theme(style=\"whitegrid\")\n",
    "ax = sns.barplot(x=hightest_female[\"Country Name\"][:5], y=hightest_female[\"Female Height in Cm\"][:5], data=hightest_female,color='red')\n",
    "ax.set_xticklabels(ax.get_xticklabels(),rotation = 90)\n",
    "plt.ylim(ymin=167,ymax=171)\n",
    "hightest_female.head()"
   ]
  },
  {
   "cell_type": "markdown",
   "id": "97630e1c",
   "metadata": {
    "papermill": {
     "duration": 0.043386,
     "end_time": "2022-07-19T22:53:45.042018",
     "exception": false,
     "start_time": "2022-07-19T22:53:44.998632",
     "status": "completed"
    },
    "tags": []
   },
   "source": [
    "# **Países com menor altura entre os homens:**"
   ]
  },
  {
   "cell_type": "markdown",
   "id": "734ada3a",
   "metadata": {
    "papermill": {
     "duration": 0.043841,
     "end_time": "2022-07-19T22:53:45.129968",
     "exception": false,
     "start_time": "2022-07-19T22:53:45.086127",
     "status": "completed"
    },
    "tags": []
   },
   "source": [
    "**5 países com menor altura entre os homens**"
   ]
  },
  {
   "cell_type": "code",
   "execution_count": 14,
   "id": "3ef42b11",
   "metadata": {
    "execution": {
     "iopub.execute_input": "2022-07-19T22:53:45.242761Z",
     "iopub.status.busy": "2022-07-19T22:53:45.242236Z",
     "iopub.status.idle": "2022-07-19T22:53:45.398099Z",
     "shell.execute_reply": "2022-07-19T22:53:45.398610Z",
     "shell.execute_reply.started": "2022-07-19T22:48:33.176924Z"
    },
    "papermill": {
     "duration": 0.224374,
     "end_time": "2022-07-19T22:53:45.398755",
     "exception": false,
     "start_time": "2022-07-19T22:53:45.174381",
     "status": "completed"
    },
    "tags": []
   },
   "outputs": [
    {
     "data": {
      "text/html": [
       "<div>\n",
       "<style scoped>\n",
       "    .dataframe tbody tr th:only-of-type {\n",
       "        vertical-align: middle;\n",
       "    }\n",
       "\n",
       "    .dataframe tbody tr th {\n",
       "        vertical-align: top;\n",
       "    }\n",
       "\n",
       "    .dataframe thead th {\n",
       "        text-align: right;\n",
       "    }\n",
       "</style>\n",
       "<table border=\"1\" class=\"dataframe\">\n",
       "  <thead>\n",
       "    <tr style=\"text-align: right;\">\n",
       "      <th></th>\n",
       "      <th>Rank</th>\n",
       "      <th>Country Name</th>\n",
       "      <th>Male Height in Cm</th>\n",
       "    </tr>\n",
       "  </thead>\n",
       "  <tbody>\n",
       "    <tr>\n",
       "      <th>198</th>\n",
       "      <td>199</td>\n",
       "      <td>Timor-Leste</td>\n",
       "      <td>160.13</td>\n",
       "    </tr>\n",
       "    <tr>\n",
       "      <th>197</th>\n",
       "      <td>198</td>\n",
       "      <td>Laos</td>\n",
       "      <td>162.78</td>\n",
       "    </tr>\n",
       "    <tr>\n",
       "      <th>196</th>\n",
       "      <td>197</td>\n",
       "      <td>Solomon Islands</td>\n",
       "      <td>163.07</td>\n",
       "    </tr>\n",
       "    <tr>\n",
       "      <th>195</th>\n",
       "      <td>196</td>\n",
       "      <td>Papua New Guinea</td>\n",
       "      <td>163.10</td>\n",
       "    </tr>\n",
       "    <tr>\n",
       "      <th>194</th>\n",
       "      <td>195</td>\n",
       "      <td>Mozambique</td>\n",
       "      <td>164.30</td>\n",
       "    </tr>\n",
       "  </tbody>\n",
       "</table>\n",
       "</div>"
      ],
      "text/plain": [
       "     Rank      Country Name  Male Height in Cm\n",
       "198   199       Timor-Leste             160.13\n",
       "197   198              Laos             162.78\n",
       "196   197   Solomon Islands             163.07\n",
       "195   196  Papua New Guinea             163.10\n",
       "194   195        Mozambique             164.30"
      ]
     },
     "execution_count": 14,
     "metadata": {},
     "output_type": "execute_result"
    },
    {
     "data": {
      "image/png": "[encoded data removed]",
      "text/plain": [
       "<Figure size 432x288 with 1 Axes>"
      ]
     },
     "metadata": {},
     "output_type": "display_data"
    }
   ],
   "source": [
    "shortest_male = df.drop('Female Height in Cm',axis=1)\n",
    "shortest_male = shortest_male.sort_values(by=['Male Height in Cm'],ascending=True)\n",
    "sns.set_theme(style=\"whitegrid\")\n",
    "ax = sns.barplot(x=shortest_male[\"Country Name\"][:5], y=shortest_male[\"Male Height in Cm\"][:5], data=shortest_male,color='blue')\n",
    "ax.set_xticklabels(ax.get_xticklabels(),rotation = 90)\n",
    "plt.ylim(ymin=155,ymax=165)\n",
    "shortest_male.head()"
   ]
  },
  {
   "cell_type": "markdown",
   "id": "1aedb543",
   "metadata": {
    "papermill": {
     "duration": 0.030323,
     "end_time": "2022-07-19T22:53:45.459514",
     "exception": false,
     "start_time": "2022-07-19T22:53:45.429191",
     "status": "completed"
    },
    "tags": []
   },
   "source": [
    "# **Países com menor altura entre as mulheres:**"
   ]
  },
  {
   "cell_type": "markdown",
   "id": "5948ab42",
   "metadata": {
    "papermill": {
     "duration": 0.030322,
     "end_time": "2022-07-19T22:53:45.520494",
     "exception": false,
     "start_time": "2022-07-19T22:53:45.490172",
     "status": "completed"
    },
    "tags": []
   },
   "source": [
    "**5 países com menor altura entre as mulheres**"
   ]
  },
  {
   "cell_type": "code",
   "execution_count": 15,
   "id": "986fcb24",
   "metadata": {
    "execution": {
     "iopub.execute_input": "2022-07-19T22:53:45.585689Z",
     "iopub.status.busy": "2022-07-19T22:53:45.585089Z",
     "iopub.status.idle": "2022-07-19T22:53:45.767911Z",
     "shell.execute_reply": "2022-07-19T22:53:45.768450Z",
     "shell.execute_reply.started": "2022-07-19T22:48:33.389535Z"
    },
    "papermill": {
     "duration": 0.218098,
     "end_time": "2022-07-19T22:53:45.768594",
     "exception": false,
     "start_time": "2022-07-19T22:53:45.550496",
     "status": "completed"
    },
    "tags": []
   },
   "outputs": [
    {
     "data": {
      "text/html": [
       "<div>\n",
       "<style scoped>\n",
       "    .dataframe tbody tr th:only-of-type {\n",
       "        vertical-align: middle;\n",
       "    }\n",
       "\n",
       "    .dataframe tbody tr th {\n",
       "        vertical-align: top;\n",
       "    }\n",
       "\n",
       "    .dataframe thead th {\n",
       "        text-align: right;\n",
       "    }\n",
       "</style>\n",
       "<table border=\"1\" class=\"dataframe\">\n",
       "  <thead>\n",
       "    <tr style=\"text-align: right;\">\n",
       "      <th></th>\n",
       "      <th>Rank</th>\n",
       "      <th>Country Name</th>\n",
       "      <th>Female Height in Cm</th>\n",
       "    </tr>\n",
       "  </thead>\n",
       "  <tbody>\n",
       "    <tr>\n",
       "      <th>193</th>\n",
       "      <td>194</td>\n",
       "      <td>Guatemala</td>\n",
       "      <td>150.91</td>\n",
       "    </tr>\n",
       "    <tr>\n",
       "      <th>190</th>\n",
       "      <td>191</td>\n",
       "      <td>Bangladesh</td>\n",
       "      <td>152.38</td>\n",
       "    </tr>\n",
       "    <tr>\n",
       "      <th>192</th>\n",
       "      <td>193</td>\n",
       "      <td>Nepal</td>\n",
       "      <td>152.39</td>\n",
       "    </tr>\n",
       "    <tr>\n",
       "      <th>198</th>\n",
       "      <td>199</td>\n",
       "      <td>Timor-Leste</td>\n",
       "      <td>152.71</td>\n",
       "    </tr>\n",
       "    <tr>\n",
       "      <th>189</th>\n",
       "      <td>190</td>\n",
       "      <td>Madagascar</td>\n",
       "      <td>153.06</td>\n",
       "    </tr>\n",
       "  </tbody>\n",
       "</table>\n",
       "</div>"
      ],
      "text/plain": [
       "     Rank Country Name  Female Height in Cm\n",
       "193   194    Guatemala               150.91\n",
       "190   191   Bangladesh               152.38\n",
       "192   193        Nepal               152.39\n",
       "198   199  Timor-Leste               152.71\n",
       "189   190   Madagascar               153.06"
      ]
     },
     "execution_count": 15,
     "metadata": {},
     "output_type": "execute_result"
    },
    {
     "data": {
      "image/png": "[encoded data removed]",
      "text/plain": [
       "<Figure size 432x288 with 1 Axes>"
      ]
     },
     "metadata": {},
     "output_type": "display_data"
    }
   ],
   "source": [
    "shortest_female = df.drop('Male Height in Cm',axis=1)\n",
    "shortest_female = shortest_female.sort_values(by=['Female Height in Cm'],ascending=True)\n",
    "sns.set_theme(style=\"whitegrid\")\n",
    "ax = sns.barplot(x=shortest_female[\"Country Name\"][:5], y=shortest_female[\"Female Height in Cm\"][:5], data=shortest_female,color='blue')\n",
    "ax.set_xticklabels(ax.get_xticklabels(),rotation = 90)\n",
    "plt.ylim(ymin=149,ymax=154)\n",
    "shortest_female.head()"
   ]
  },
  {
   "cell_type": "markdown",
   "id": "9cbe1eaf",
   "metadata": {
    "papermill": {
     "duration": 0.031794,
     "end_time": "2022-07-19T22:53:45.833499",
     "exception": false,
     "start_time": "2022-07-19T22:53:45.801705",
     "status": "completed"
    },
    "tags": []
   },
   "source": [
    "# **Altura Média entre os Países:**"
   ]
  },
  {
   "cell_type": "code",
   "execution_count": 16,
   "id": "cff989f0",
   "metadata": {
    "execution": {
     "iopub.execute_input": "2022-07-19T22:53:45.911724Z",
     "iopub.status.busy": "2022-07-19T22:53:45.910940Z",
     "iopub.status.idle": "2022-07-19T22:53:45.914884Z",
     "shell.execute_reply": "2022-07-19T22:53:45.914470Z",
     "shell.execute_reply.started": "2022-07-19T22:48:33.604359Z"
    },
    "papermill": {
     "duration": 0.049129,
     "end_time": "2022-07-19T22:53:45.914993",
     "exception": false,
     "start_time": "2022-07-19T22:53:45.865864",
     "status": "completed"
    },
    "tags": []
   },
   "outputs": [
    {
     "data": {
      "text/html": [
       "<div>\n",
       "<style scoped>\n",
       "    .dataframe tbody tr th:only-of-type {\n",
       "        vertical-align: middle;\n",
       "    }\n",
       "\n",
       "    .dataframe tbody tr th {\n",
       "        vertical-align: top;\n",
       "    }\n",
       "\n",
       "    .dataframe thead th {\n",
       "        text-align: right;\n",
       "    }\n",
       "</style>\n",
       "<table border=\"1\" class=\"dataframe\">\n",
       "  <thead>\n",
       "    <tr style=\"text-align: right;\">\n",
       "      <th></th>\n",
       "      <th>Rank</th>\n",
       "      <th>Country Name</th>\n",
       "      <th>Male Height in Cm</th>\n",
       "      <th>Female Height in Cm</th>\n",
       "      <th>Mean Height in Cm</th>\n",
       "    </tr>\n",
       "  </thead>\n",
       "  <tbody>\n",
       "    <tr>\n",
       "      <th>0</th>\n",
       "      <td>1</td>\n",
       "      <td>Netherlands</td>\n",
       "      <td>183.78</td>\n",
       "      <td>170.36</td>\n",
       "      <td>177.070</td>\n",
       "    </tr>\n",
       "    <tr>\n",
       "      <th>1</th>\n",
       "      <td>2</td>\n",
       "      <td>Montenegro</td>\n",
       "      <td>183.30</td>\n",
       "      <td>169.96</td>\n",
       "      <td>176.630</td>\n",
       "    </tr>\n",
       "    <tr>\n",
       "      <th>2</th>\n",
       "      <td>3</td>\n",
       "      <td>Estonia</td>\n",
       "      <td>182.79</td>\n",
       "      <td>168.66</td>\n",
       "      <td>175.725</td>\n",
       "    </tr>\n",
       "    <tr>\n",
       "      <th>3</th>\n",
       "      <td>4</td>\n",
       "      <td>Bosnia and Herzegovina</td>\n",
       "      <td>182.47</td>\n",
       "      <td>167.47</td>\n",
       "      <td>174.970</td>\n",
       "    </tr>\n",
       "    <tr>\n",
       "      <th>4</th>\n",
       "      <td>5</td>\n",
       "      <td>Iceland</td>\n",
       "      <td>182.10</td>\n",
       "      <td>168.91</td>\n",
       "      <td>175.505</td>\n",
       "    </tr>\n",
       "  </tbody>\n",
       "</table>\n",
       "</div>"
      ],
      "text/plain": [
       "   Rank            Country Name  Male Height in Cm  Female Height in Cm  \\\n",
       "0     1             Netherlands             183.78               170.36   \n",
       "1     2              Montenegro             183.30               169.96   \n",
       "2     3                 Estonia             182.79               168.66   \n",
       "3     4  Bosnia and Herzegovina             182.47               167.47   \n",
       "4     5                 Iceland             182.10               168.91   \n",
       "\n",
       "   Mean Height in Cm  \n",
       "0            177.070  \n",
       "1            176.630  \n",
       "2            175.725  \n",
       "3            174.970  \n",
       "4            175.505  "
      ]
     },
     "execution_count": 16,
     "metadata": {},
     "output_type": "execute_result"
    }
   ],
   "source": [
    "df['Mean Height in Cm'] = 0.5*(df['Male Height in Cm']+df['Female Height in Cm'])\n",
    "df.head()"
   ]
  },
  {
   "cell_type": "code",
   "execution_count": 17,
   "id": "882fd122",
   "metadata": {
    "execution": {
     "iopub.execute_input": "2022-07-19T22:53:45.982059Z",
     "iopub.status.busy": "2022-07-19T22:53:45.981505Z",
     "iopub.status.idle": "2022-07-19T22:53:45.991676Z",
     "shell.execute_reply": "2022-07-19T22:53:45.992169Z",
     "shell.execute_reply.started": "2022-07-19T22:48:33.625322Z"
    },
    "papermill": {
     "duration": 0.044864,
     "end_time": "2022-07-19T22:53:45.992333",
     "exception": false,
     "start_time": "2022-07-19T22:53:45.947469",
     "status": "completed"
    },
    "tags": []
   },
   "outputs": [
    {
     "data": {
      "text/html": [
       "<div>\n",
       "<style scoped>\n",
       "    .dataframe tbody tr th:only-of-type {\n",
       "        vertical-align: middle;\n",
       "    }\n",
       "\n",
       "    .dataframe tbody tr th {\n",
       "        vertical-align: top;\n",
       "    }\n",
       "\n",
       "    .dataframe thead th {\n",
       "        text-align: right;\n",
       "    }\n",
       "</style>\n",
       "<table border=\"1\" class=\"dataframe\">\n",
       "  <thead>\n",
       "    <tr style=\"text-align: right;\">\n",
       "      <th></th>\n",
       "      <th>Rank</th>\n",
       "      <th>Country Name</th>\n",
       "      <th>Male Height in Cm</th>\n",
       "      <th>Female Height in Cm</th>\n",
       "      <th>Mean Height in Cm</th>\n",
       "    </tr>\n",
       "  </thead>\n",
       "  <tbody>\n",
       "    <tr>\n",
       "      <th>0</th>\n",
       "      <td>1</td>\n",
       "      <td>Netherlands</td>\n",
       "      <td>183.78</td>\n",
       "      <td>170.36</td>\n",
       "      <td>177.070</td>\n",
       "    </tr>\n",
       "    <tr>\n",
       "      <th>1</th>\n",
       "      <td>2</td>\n",
       "      <td>Montenegro</td>\n",
       "      <td>183.30</td>\n",
       "      <td>169.96</td>\n",
       "      <td>176.630</td>\n",
       "    </tr>\n",
       "    <tr>\n",
       "      <th>2</th>\n",
       "      <td>3</td>\n",
       "      <td>Estonia</td>\n",
       "      <td>182.79</td>\n",
       "      <td>168.66</td>\n",
       "      <td>175.725</td>\n",
       "    </tr>\n",
       "    <tr>\n",
       "      <th>3</th>\n",
       "      <td>4</td>\n",
       "      <td>Bosnia and Herzegovina</td>\n",
       "      <td>182.47</td>\n",
       "      <td>167.47</td>\n",
       "      <td>174.970</td>\n",
       "    </tr>\n",
       "    <tr>\n",
       "      <th>4</th>\n",
       "      <td>5</td>\n",
       "      <td>Iceland</td>\n",
       "      <td>182.10</td>\n",
       "      <td>168.91</td>\n",
       "      <td>175.505</td>\n",
       "    </tr>\n",
       "  </tbody>\n",
       "</table>\n",
       "</div>"
      ],
      "text/plain": [
       "   Rank            Country Name  Male Height in Cm  Female Height in Cm  \\\n",
       "0     1             Netherlands             183.78               170.36   \n",
       "1     2              Montenegro             183.30               169.96   \n",
       "2     3                 Estonia             182.79               168.66   \n",
       "3     4  Bosnia and Herzegovina             182.47               167.47   \n",
       "4     5                 Iceland             182.10               168.91   \n",
       "\n",
       "   Mean Height in Cm  \n",
       "0            177.070  \n",
       "1            176.630  \n",
       "2            175.725  \n",
       "3            174.970  \n",
       "4            175.505  "
      ]
     },
     "execution_count": 17,
     "metadata": {},
     "output_type": "execute_result"
    }
   ],
   "source": [
    "df.head()"
   ]
  },
  {
   "cell_type": "markdown",
   "id": "64f1127a",
   "metadata": {
    "papermill": {
     "duration": 0.034513,
     "end_time": "2022-07-19T22:53:46.059565",
     "exception": false,
     "start_time": "2022-07-19T22:53:46.025052",
     "status": "completed"
    },
    "tags": []
   },
   "source": [
    "**5 países com maior altura média**"
   ]
  },
  {
   "cell_type": "code",
   "execution_count": 18,
   "id": "3dfd8dea",
   "metadata": {
    "execution": {
     "iopub.execute_input": "2022-07-19T22:53:46.130968Z",
     "iopub.status.busy": "2022-07-19T22:53:46.130449Z",
     "iopub.status.idle": "2022-07-19T22:53:46.324345Z",
     "shell.execute_reply": "2022-07-19T22:53:46.323884Z",
     "shell.execute_reply.started": "2022-07-19T22:48:33.641213Z"
    },
    "papermill": {
     "duration": 0.230751,
     "end_time": "2022-07-19T22:53:46.324456",
     "exception": false,
     "start_time": "2022-07-19T22:53:46.093705",
     "status": "completed"
    },
    "tags": []
   },
   "outputs": [
    {
     "data": {
      "text/html": [
       "<div>\n",
       "<style scoped>\n",
       "    .dataframe tbody tr th:only-of-type {\n",
       "        vertical-align: middle;\n",
       "    }\n",
       "\n",
       "    .dataframe tbody tr th {\n",
       "        vertical-align: top;\n",
       "    }\n",
       "\n",
       "    .dataframe thead th {\n",
       "        text-align: right;\n",
       "    }\n",
       "</style>\n",
       "<table border=\"1\" class=\"dataframe\">\n",
       "  <thead>\n",
       "    <tr style=\"text-align: right;\">\n",
       "      <th></th>\n",
       "      <th>Rank</th>\n",
       "      <th>Country Name</th>\n",
       "      <th>Male Height in Cm</th>\n",
       "      <th>Female Height in Cm</th>\n",
       "      <th>Mean Height in Cm</th>\n",
       "    </tr>\n",
       "  </thead>\n",
       "  <tbody>\n",
       "    <tr>\n",
       "      <th>0</th>\n",
       "      <td>1</td>\n",
       "      <td>Netherlands</td>\n",
       "      <td>183.78</td>\n",
       "      <td>170.36</td>\n",
       "      <td>177.070</td>\n",
       "    </tr>\n",
       "    <tr>\n",
       "      <th>1</th>\n",
       "      <td>2</td>\n",
       "      <td>Montenegro</td>\n",
       "      <td>183.30</td>\n",
       "      <td>169.96</td>\n",
       "      <td>176.630</td>\n",
       "    </tr>\n",
       "    <tr>\n",
       "      <th>2</th>\n",
       "      <td>3</td>\n",
       "      <td>Estonia</td>\n",
       "      <td>182.79</td>\n",
       "      <td>168.66</td>\n",
       "      <td>175.725</td>\n",
       "    </tr>\n",
       "    <tr>\n",
       "      <th>5</th>\n",
       "      <td>6</td>\n",
       "      <td>Denmark</td>\n",
       "      <td>181.89</td>\n",
       "      <td>169.47</td>\n",
       "      <td>175.680</td>\n",
       "    </tr>\n",
       "    <tr>\n",
       "      <th>4</th>\n",
       "      <td>5</td>\n",
       "      <td>Iceland</td>\n",
       "      <td>182.10</td>\n",
       "      <td>168.91</td>\n",
       "      <td>175.505</td>\n",
       "    </tr>\n",
       "  </tbody>\n",
       "</table>\n",
       "</div>"
      ],
      "text/plain": [
       "   Rank Country Name  Male Height in Cm  Female Height in Cm  \\\n",
       "0     1  Netherlands             183.78               170.36   \n",
       "1     2   Montenegro             183.30               169.96   \n",
       "2     3      Estonia             182.79               168.66   \n",
       "5     6      Denmark             181.89               169.47   \n",
       "4     5      Iceland             182.10               168.91   \n",
       "\n",
       "   Mean Height in Cm  \n",
       "0            177.070  \n",
       "1            176.630  \n",
       "2            175.725  \n",
       "5            175.680  \n",
       "4            175.505  "
      ]
     },
     "execution_count": 18,
     "metadata": {},
     "output_type": "execute_result"
    },
    {
     "data": {
      "image/png": "[encoded data removed]",
      "text/plain": [
       "<Figure size 432x288 with 1 Axes>"
      ]
     },
     "metadata": {},
     "output_type": "display_data"
    }
   ],
   "source": [
    "mean_height = df\n",
    "mean_height = mean_height.sort_values(by=['Mean Height in Cm'],ascending=False)\n",
    "sns.set_theme(style=\"whitegrid\")\n",
    "ax = sns.barplot(x=mean_height[\"Country Name\"][:5], y=mean_height[\"Mean Height in Cm\"][:5], data=hightest_male,color='yellow')\n",
    "ax.set_xticklabels(ax.get_xticklabels(),rotation = 90)\n",
    "plt.ylim(ymin=174,ymax=178)\n",
    "mean_height.head()"
   ]
  },
  {
   "cell_type": "markdown",
   "id": "a03e220b",
   "metadata": {
    "papermill": {
     "duration": 0.034343,
     "end_time": "2022-07-19T22:53:46.393529",
     "exception": false,
     "start_time": "2022-07-19T22:53:46.359186",
     "status": "completed"
    },
    "tags": []
   },
   "source": [
    "**5 países com menor altura média**"
   ]
  },
  {
   "cell_type": "code",
   "execution_count": 19,
   "id": "57216023",
   "metadata": {
    "execution": {
     "iopub.execute_input": "2022-07-19T22:53:46.465809Z",
     "iopub.status.busy": "2022-07-19T22:53:46.465120Z",
     "iopub.status.idle": "2022-07-19T22:53:46.660371Z",
     "shell.execute_reply": "2022-07-19T22:53:46.659859Z",
     "shell.execute_reply.started": "2022-07-19T22:48:33.930164Z"
    },
    "papermill": {
     "duration": 0.232425,
     "end_time": "2022-07-19T22:53:46.660473",
     "exception": false,
     "start_time": "2022-07-19T22:53:46.428048",
     "status": "completed"
    },
    "tags": []
   },
   "outputs": [
    {
     "data": {
      "text/html": [
       "<div>\n",
       "<style scoped>\n",
       "    .dataframe tbody tr th:only-of-type {\n",
       "        vertical-align: middle;\n",
       "    }\n",
       "\n",
       "    .dataframe tbody tr th {\n",
       "        vertical-align: top;\n",
       "    }\n",
       "\n",
       "    .dataframe thead th {\n",
       "        text-align: right;\n",
       "    }\n",
       "</style>\n",
       "<table border=\"1\" class=\"dataframe\">\n",
       "  <thead>\n",
       "    <tr style=\"text-align: right;\">\n",
       "      <th></th>\n",
       "      <th>Rank</th>\n",
       "      <th>Country Name</th>\n",
       "      <th>Male Height in Cm</th>\n",
       "      <th>Female Height in Cm</th>\n",
       "      <th>Mean Height in Cm</th>\n",
       "    </tr>\n",
       "  </thead>\n",
       "  <tbody>\n",
       "    <tr>\n",
       "      <th>198</th>\n",
       "      <td>199</td>\n",
       "      <td>Timor-Leste</td>\n",
       "      <td>160.13</td>\n",
       "      <td>152.71</td>\n",
       "      <td>156.420</td>\n",
       "    </tr>\n",
       "    <tr>\n",
       "      <th>193</th>\n",
       "      <td>194</td>\n",
       "      <td>Guatemala</td>\n",
       "      <td>164.36</td>\n",
       "      <td>150.91</td>\n",
       "      <td>157.635</td>\n",
       "    </tr>\n",
       "    <tr>\n",
       "      <th>197</th>\n",
       "      <td>198</td>\n",
       "      <td>Laos</td>\n",
       "      <td>162.78</td>\n",
       "      <td>153.10</td>\n",
       "      <td>157.940</td>\n",
       "    </tr>\n",
       "    <tr>\n",
       "      <th>192</th>\n",
       "      <td>193</td>\n",
       "      <td>Nepal</td>\n",
       "      <td>164.36</td>\n",
       "      <td>152.39</td>\n",
       "      <td>158.375</td>\n",
       "    </tr>\n",
       "    <tr>\n",
       "      <th>190</th>\n",
       "      <td>191</td>\n",
       "      <td>Bangladesh</td>\n",
       "      <td>165.08</td>\n",
       "      <td>152.38</td>\n",
       "      <td>158.730</td>\n",
       "    </tr>\n",
       "  </tbody>\n",
       "</table>\n",
       "</div>"
      ],
      "text/plain": [
       "     Rank Country Name  Male Height in Cm  Female Height in Cm  \\\n",
       "198   199  Timor-Leste             160.13               152.71   \n",
       "193   194    Guatemala             164.36               150.91   \n",
       "197   198         Laos             162.78               153.10   \n",
       "192   193        Nepal             164.36               152.39   \n",
       "190   191   Bangladesh             165.08               152.38   \n",
       "\n",
       "     Mean Height in Cm  \n",
       "198            156.420  \n",
       "193            157.635  \n",
       "197            157.940  \n",
       "192            158.375  \n",
       "190            158.730  "
      ]
     },
     "execution_count": 19,
     "metadata": {},
     "output_type": "execute_result"
    },
    {
     "data": {
      "image/png": "[encoded data removed]",
      "text/plain": [
       "<Figure size 432x288 with 1 Axes>"
      ]
     },
     "metadata": {},
     "output_type": "display_data"
    }
   ],
   "source": [
    "mean_height = mean_height.sort_values(by=['Mean Height in Cm'],ascending=True)\n",
    "sns.set_theme(style=\"whitegrid\")\n",
    "ax = sns.barplot(x=mean_height[\"Country Name\"][:5], y=mean_height[\"Mean Height in Cm\"][:5], data=hightest_male,color='yellow')\n",
    "ax.set_xticklabels(ax.get_xticklabels(),rotation = 90)\n",
    "plt.ylim(ymin=155,ymax=159)\n",
    "mean_height.head()"
   ]
  },
  {
   "cell_type": "markdown",
   "id": "8df8562b",
   "metadata": {
    "papermill": {
     "duration": 0.035005,
     "end_time": "2022-07-19T22:53:46.730903",
     "exception": false,
     "start_time": "2022-07-19T22:53:46.695898",
     "status": "completed"
    },
    "tags": []
   },
   "source": [
    "**Conclusões a partir da análise destes dados**\n",
    "\n",
    "* A Holanda é o país com a maior média de altura tanto masculina quanto feminina;\n",
    "* Montenegro é o país com a segunda maior média de altura para ambos os sexos;\n",
    "* Timor-Leste é o país com a menor média de altura masculina e está no TOP 5 de países com a menor média de altura para o sexo feminino;\n",
    "* Guatemala é o país com a menor média de altura para o sexo feminino;\n",
    "* Os países com a maior média de altura são europeus;\n",
    "* Os países com a menor média de altura são asiáticos;"
   ]
  }
 ],
 "metadata": {
  "kernelspec": {
   "display_name": "Python 3",
   "language": "python",
   "name": "python3"
  },
  "language_info": {
   "codemirror_mode": {
    "name": "ipython",
    "version": 3
   },
   "file_extension": ".py",
   "mimetype": "text/x-python",
   "name": "python",
   "nbconvert_exporter": "python",
   "pygments_lexer": "ipython3",
   "version": "3.7.12"
  },
  "papermill": {
   "default_parameters": {},
   "duration": 17.174961,
   "end_time": "2022-07-19T22:53:47.473702",
   "environment_variables": {},
   "exception": null,
   "input_path": "__notebook__.ipynb",
   "output_path": "__notebook__.ipynb",
   "parameters": {},
   "start_time": "2022-07-19T22:53:30.298741",
   "version": "2.3.3"
  }
 },
 "nbformat": 4,
 "nbformat_minor": 5
}

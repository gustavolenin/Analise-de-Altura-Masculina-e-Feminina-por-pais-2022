{
  "nbformat": 4,
  "nbformat_minor": 0,
  "metadata": {
    "colab": {
      "provenance": [],
      "collapsed_sections": [],
      "mount_file_id": "1hrmXAfUdvDqyjPp88D7MSH2KD8hVsiC7",
      "authorship_tag": "ABX9TyNxOa3iYqvDFPe7l1OikGxZ",
      "include_colab_link": true
    },
    "kernelspec": {
      "name": "python3",
      "display_name": "Python 3"
    },
    "language_info": {
      "name": "python"
    }
  },
  "cells": [
    {
      "cell_type": "markdown",
      "metadata": {
        "id": "view-in-github",
        "colab_type": "text"
      },
      "source": [
        "<a href=\"https://colab.research.google.com/github/gustavolenin/Analise-de-Altura-Masculina-e-Feminina-por-pais-2022/blob/main/Data_Science_Nigeria_Challenge_1_Loan_Default_Prediction.ipynb\" target=\"_parent\"><img src=\"https://colab.research.google.com/assets/colab-badge.svg\" alt=\"Open In Colab\"/></a>"
      ]
    },
    {
      "cell_type": "markdown",
      "source": [
        "# Definição do Problema\n",
        "\n",
        "Este projeto consiste em uma competição disponível no site da [Zindi](https://zindi.africa/competitions/data-science-nigeria-challenge-1-loan-default-prediction).\n",
        "\n",
        "Descrição do Desafio:\n",
        "\n",
        "A SuperLender é uma empresa de empréstimo digital local, que se orgulha do uso eficaz de modelos de risco de crédito para oferecer alternativas de empréstimo lucrativas e de alto impacto. Sua abordagem de avaliação é baseada em dois principais fatores de risco de previsão de inadimplência de empréstimos:. 1) disposição para pagar e 2) capacidade para pagar. Como nem todos os clientes pagam de volta, a empresa investe em cientistas de dados experientes para construir modelos robustos para prever efetivamente as chances de pagamento.\n",
        "\n",
        "Esses dois fatores fundamentais precisam ser determinados no momento de cada solicitação para permitir que o concedente de crédito tome uma decisão calculada com base nas probabilidades de pagamento, que por sua vez determina se um solicitante deve obter um empréstimo e, em caso afirmativo, qual o tamanho, preço e duração da oferta será.\n",
        "\n",
        "Existem dois tipos de modelos de risco em geral: Risco de novos negócios, que seria usado para avaliar o risco de aplicação(ões) associada(s) ao primeiro empréstimo que ele aplica. O segundo é um modelo de risco de repetição ou comportamento, caso em que o cliente já foi cliente e solicita um empréstimo de repetição. Neste último caso - teremos um desempenho adicional sobre como ele pagou seus empréstimos anteriores, que podemos incorporar em nosso modelo de risco.\n",
        "\n",
        "É seu trabalho prever se um empréstimo foi bom ou ruim, ou seja, prever com precisão a variável de resultado binário, onde Bom é 1 e Ruim é 0."
      ],
      "metadata": {
        "id": "ThRCJkLkBWpv"
      }
    },
    {
      "cell_type": "markdown",
      "source": [
        "# Extração dos Dados\n",
        "\n",
        "Importação de Bibliotecas"
      ],
      "metadata": {
        "id": "khO_8EwsDbmj"
      }
    },
    {
      "cell_type": "code",
      "source": [
        "#!pip install --upgrade category_encoders"
      ],
      "metadata": {
        "id": "XQGVTfa5InOE"
      },
      "execution_count": 1,
      "outputs": []
    },
    {
      "cell_type": "code",
      "execution_count": 2,
      "metadata": {
        "id": "LeaN7pjEAtEV"
      },
      "outputs": [],
      "source": [
        "import numpy as np # linear algebra\n",
        "import pandas as pd # data processing, CSV file I/O (e.g. pd.read_csv)\n",
        "import matplotlib.pyplot as plt\n",
        "import seaborn as sns\n",
        "from sklearn.pipeline import Pipeline\n",
        "from sklearn.model_selection import train_test_split\n",
        "from sklearn.metrics import confusion_matrix, classification_report, roc_curve, roc_auc_score\n",
        "from category_encoders import TargetEncoder\n",
        "from sklearn.impute import SimpleImputer\n",
        "from sklearn.compose import ColumnTransformer\n",
        "from xgboost import XGBClassifier\n",
        "import lightgbm as lgb\n",
        "from sklearn.model_selection import GridSearchCV\n",
        "from sklearn.model_selection import RandomizedSearchCV\n",
        "import warnings\n",
        "warnings.filterwarnings(\"ignore\")"
      ]
    },
    {
      "cell_type": "code",
      "source": [
        "df_traindemographics = pd.read_csv('/content/traindemographics.csv')\n",
        "df_trainperf = pd.read_csv('/content/trainperf.csv')\n",
        "df_trainprevloans = pd.read_csv('/content/trainprevloans.csv')"
      ],
      "metadata": {
        "id": "9Zjso7KjFveX"
      },
      "execution_count": 3,
      "outputs": []
    },
    {
      "cell_type": "code",
      "source": [
        "# Identificando as colunas da cada um dos dataframes\n",
        "print('---------------------------\\ndf_traindemographics columns')\n",
        "print(df_traindemographics.columns)\n",
        "print('---------------------------\\ndf_trainperf columns')\n",
        "print(df_trainperf.columns)\n",
        "print('---------------------------\\ndf_trainprevloans columns')\n",
        "print(df_trainprevloans.columns)"
      ],
      "metadata": {
        "id": "Fv_kPA32NGmV",
        "colab": {
          "base_uri": "https://localhost:8080/"
        },
        "outputId": "aad71af2-f864-404f-8d87-e1d34991e343"
      },
      "execution_count": 4,
      "outputs": [
        {
          "output_type": "stream",
          "name": "stdout",
          "text": [
            "---------------------------\n",
            "df_traindemographics columns\n",
            "Index(['customerid', 'birthdate', 'bank_account_type', 'longitude_gps',\n",
            "       'latitude_gps', 'bank_name_clients', 'bank_branch_clients',\n",
            "       'employment_status_clients', 'level_of_education_clients'],\n",
            "      dtype='object')\n",
            "---------------------------\n",
            "df_trainperf columns\n",
            "Index(['customerid', 'systemloanid', 'loannumber', 'approveddate',\n",
            "       'creationdate', 'loanamount', 'totaldue', 'termdays', 'referredby',\n",
            "       'good_bad_flag'],\n",
            "      dtype='object')\n",
            "---------------------------\n",
            "df_trainprevloans columns\n",
            "Index(['customerid', 'systemloanid', 'loannumber', 'approveddate',\n",
            "       'creationdate', 'loanamount', 'totaldue', 'termdays', 'closeddate',\n",
            "       'referredby', 'firstduedate', 'firstrepaiddate'],\n",
            "      dtype='object')\n"
          ]
        }
      ]
    },
    {
      "cell_type": "code",
      "source": [
        "# Nota-se que existem colunas com o mesmo nome uma vez que deseja-se unir todas essas informações em um mesmo dataframe faz-se necessário renomear algumas colunas para uma melhor organização\n",
        "df_trainperf.rename(columns={'systemloanid':'systemloanid_perf','loannumber':'loannumber_perf','approveddate':'approveddate_perf','creationdate':'creationdate_perf','loanamount':'loanamount_perf', 'totaldue':'totaldue_perf', \n",
        "                     'termdays':'termdays_perf', 'referredby':'referredby_perf'},inplace=True)\n",
        "df_trainprevloans.rename(columns={'systemloanid':'systemloanid_prevloans','loannumber':'loannumber_prevloans','approveddate':'approveddate_prevloans','creationdate':'creationdate_prevloans','loanamount':'loanamount_prevloans', \n",
        "                          'totaldue':'totaldue_prevloans', 'termdays':'termdays_prevloans', 'referredby':'referredby_prevloans'},inplace=True)"
      ],
      "metadata": {
        "id": "oXmGVVehOAip"
      },
      "execution_count": 5,
      "outputs": []
    },
    {
      "cell_type": "code",
      "source": [
        "# Concatenando os dataframes correspondentes ao treino\n",
        "df_train = df_trainperf.merge(df_traindemographics,on='customerid',how='left').merge(df_trainprevloans,on='customerid',how='left')"
      ],
      "metadata": {
        "id": "CMKMwpJ9G-DC"
      },
      "execution_count": 6,
      "outputs": []
    },
    {
      "cell_type": "code",
      "source": [
        "df_train.columns"
      ],
      "metadata": {
        "colab": {
          "base_uri": "https://localhost:8080/"
        },
        "id": "6y6U2VVs0FjY",
        "outputId": "559ee849-a64c-4626-d47f-e6a23f372764"
      },
      "execution_count": 7,
      "outputs": [
        {
          "output_type": "execute_result",
          "data": {
            "text/plain": [
              "Index(['customerid', 'systemloanid_perf', 'loannumber_perf',\n",
              "       'approveddate_perf', 'creationdate_perf', 'loanamount_perf',\n",
              "       'totaldue_perf', 'termdays_perf', 'referredby_perf', 'good_bad_flag',\n",
              "       'birthdate', 'bank_account_type', 'longitude_gps', 'latitude_gps',\n",
              "       'bank_name_clients', 'bank_branch_clients', 'employment_status_clients',\n",
              "       'level_of_education_clients', 'systemloanid_prevloans',\n",
              "       'loannumber_prevloans', 'approveddate_prevloans',\n",
              "       'creationdate_prevloans', 'loanamount_prevloans', 'totaldue_prevloans',\n",
              "       'termdays_prevloans', 'closeddate', 'referredby_prevloans',\n",
              "       'firstduedate', 'firstrepaiddate'],\n",
              "      dtype='object')"
            ]
          },
          "metadata": {},
          "execution_count": 7
        }
      ]
    },
    {
      "cell_type": "code",
      "source": [
        "df_train.drop(columns=['customerid','systemloanid_prevloans','systemloanid_perf','referredby_prevloans','referredby_perf'],inplace=True);"
      ],
      "metadata": {
        "id": "meU50VFDaTqq"
      },
      "execution_count": 8,
      "outputs": []
    },
    {
      "cell_type": "code",
      "source": [
        "# Verificando valores nulos\n",
        "df_train.isnull().sum()"
      ],
      "metadata": {
        "colab": {
          "base_uri": "https://localhost:8080/"
        },
        "id": "hxPRcEYmaVTa",
        "outputId": "e6182f48-9b40-4cc2-8d54-268728f3e849"
      },
      "execution_count": 9,
      "outputs": [
        {
          "output_type": "execute_result",
          "data": {
            "text/plain": [
              "loannumber_perf                   0\n",
              "approveddate_perf                 0\n",
              "creationdate_perf                 0\n",
              "loanamount_perf                   0\n",
              "totaldue_perf                     0\n",
              "termdays_perf                     0\n",
              "good_bad_flag                     0\n",
              "birthdate                      4514\n",
              "bank_account_type              4514\n",
              "longitude_gps                  4514\n",
              "latitude_gps                   4514\n",
              "bank_name_clients              4514\n",
              "bank_branch_clients           18105\n",
              "employment_status_clients      5877\n",
              "level_of_education_clients    14745\n",
              "loannumber_prevloans              9\n",
              "approveddate_prevloans            9\n",
              "creationdate_prevloans            9\n",
              "loanamount_prevloans              9\n",
              "totaldue_prevloans                9\n",
              "termdays_prevloans                9\n",
              "closeddate                        9\n",
              "firstduedate                      9\n",
              "firstrepaiddate                   9\n",
              "dtype: int64"
            ]
          },
          "metadata": {},
          "execution_count": 9
        }
      ]
    },
    {
      "cell_type": "code",
      "source": [
        "# Transformação de dados\n",
        "df_train.birthdate              = pd.to_datetime(df_train.birthdate)\n",
        "df_train.approveddate_perf      = pd.to_datetime(df_train.approveddate_perf)              \n",
        "df_train.approveddate_prevloans = pd.to_datetime(df_train.approveddate_prevloans)\n",
        "df_train.creationdate_prevloans = pd.to_datetime(df_train.creationdate_prevloans)\n",
        "df_train.creationdate_perf      = pd.to_datetime(df_train.creationdate_perf)\n",
        "df_train.closeddate             = pd.to_datetime(df_train.closeddate)\n",
        "df_train.firstduedate           = pd.to_datetime(df_train.firstduedate)\n",
        "df_train.firstrepaiddate        = pd.to_datetime(df_train.firstrepaiddate)"
      ],
      "metadata": {
        "id": "NP7gj3YQaW35"
      },
      "execution_count": 10,
      "outputs": []
    },
    {
      "cell_type": "code",
      "source": [
        "df_train.employment_status_clients.fillna('0',inplace=True)\n",
        "df_train.level_of_education_clients.fillna('0',inplace=True)\n",
        "df_train.birthdate.fillna(df_train.birthdate.median(),inplace=True)\n",
        "df_train.loannumber_prevloans.fillna(df_train.loannumber_prevloans.median(),inplace=True)\n",
        "df_train.latitude_gps.fillna(df_train.latitude_gps.median(),inplace=True)\n",
        "df_train.longitude_gps.fillna(df_train.longitude_gps.median(),inplace=True)\n",
        "df_train.bank_account_type.fillna(df_train.bank_account_type.mode()[0],inplace=True)\n",
        "df_train.bank_name_clients.fillna(df_train.bank_name_clients.mode()[0],inplace=True)\n",
        "df_train.bank_branch_clients.fillna(df_train.bank_branch_clients.mode()[0],inplace=True)\n",
        "df_train.approveddate_prevloans.fillna(df_train.approveddate_prevloans.mode()[0],inplace=True)\n",
        "df_train.creationdate_prevloans.fillna(df_train.creationdate_prevloans.mode()[0],inplace=True)\n",
        "df_train.loannumber_prevloans.fillna(df_train.loannumber_prevloans.median(),inplace=True)\n",
        "df_train.loanamount_prevloans.fillna(df_train.loanamount_prevloans.median(),inplace=True)\n",
        "df_train.totaldue_prevloans.fillna(df_train.totaldue_prevloans.median(),inplace=True)\n",
        "df_train.termdays_prevloans.fillna(df_train.termdays_prevloans.median(),inplace=True)\n",
        "df_train.closeddate.fillna(df_train.closeddate.mode()[0],inplace=True)\n",
        "df_train.firstduedate.fillna(df_train.firstduedate.mode()[0],inplace=True)\n",
        "df_train.firstrepaiddate.fillna(df_train.firstrepaiddate.mode()[0],inplace=True)"
      ],
      "metadata": {
        "id": "hKa_-xgHaaAD"
      },
      "execution_count": 11,
      "outputs": []
    },
    {
      "cell_type": "code",
      "source": [
        "df_train['creation_close_prevloans'] = (df_train.closeddate - df_train.creationdate_prevloans)\n",
        "df_train['delay_payment_prevloans'] = (df_train.firstrepaiddate - df_train.firstduedate)\n",
        "df_train['creation_aprov_prevloans'] = (df_train.approveddate_prevloans - df_train.creationdate_prevloans)\n",
        "df_train['creation_aprov_perf'] = (df_train.approveddate_perf - df_train.creationdate_perf)\n",
        "# Transformando para horas\n",
        "df_train['creation_close_prevloans'] = df_train['creation_close_prevloans'] / np.timedelta64(1, 'h')\n",
        "df_train['delay_payment_prevloans']  = df_train['delay_payment_prevloans'] / np.timedelta64(1, 'h')\n",
        "df_train['creation_aprov_prevloans'] = df_train['creation_aprov_prevloans'] / np.timedelta64(1, 'h')\n",
        "df_train['creation_aprov_perf']      = df_train['creation_aprov_perf'] / np.timedelta64(1, 'h')\n",
        "df_train['age']                = (pd.to_datetime('today') - df_train['birthdate']) / np.timedelta64(1, 'h')\n",
        "# Dropando colunas \n",
        "df_train.drop(columns=['closeddate','creationdate_prevloans','firstrepaiddate','firstduedate','approveddate_prevloans','creationdate_prevloans','approveddate_perf','creationdate_perf'],inplace=True);"
      ],
      "metadata": {
        "id": "RM_5YB78adJh"
      },
      "execution_count": 12,
      "outputs": []
    },
    {
      "cell_type": "code",
      "source": [
        "df_train.columns"
      ],
      "metadata": {
        "colab": {
          "base_uri": "https://localhost:8080/"
        },
        "id": "bGiRIE47ae5j",
        "outputId": "5345ed6e-48e2-4de5-ad5c-50f8e8a9ebde"
      },
      "execution_count": 13,
      "outputs": [
        {
          "output_type": "execute_result",
          "data": {
            "text/plain": [
              "Index(['loannumber_perf', 'loanamount_perf', 'totaldue_perf', 'termdays_perf',\n",
              "       'good_bad_flag', 'birthdate', 'bank_account_type', 'longitude_gps',\n",
              "       'latitude_gps', 'bank_name_clients', 'bank_branch_clients',\n",
              "       'employment_status_clients', 'level_of_education_clients',\n",
              "       'loannumber_prevloans', 'loanamount_prevloans', 'totaldue_prevloans',\n",
              "       'termdays_prevloans', 'creation_close_prevloans',\n",
              "       'delay_payment_prevloans', 'creation_aprov_prevloans',\n",
              "       'creation_aprov_perf', 'age'],\n",
              "      dtype='object')"
            ]
          },
          "metadata": {},
          "execution_count": 13
        }
      ]
    },
    {
      "cell_type": "code",
      "source": [
        "df_train.good_bad_flag.replace({'Good':1,'Bad':0},inplace=True)"
      ],
      "metadata": {
        "id": "mAab4fZjQVTe"
      },
      "execution_count": 14,
      "outputs": []
    },
    {
      "cell_type": "code",
      "source": [
        "# Realizando split dos dados\n",
        "df_train_target_encoding = df_train.copy()\n",
        "X = df_train.drop('good_bad_flag',axis=1)\n",
        "y = df_train.good_bad_flag\n",
        "Xtrain, Xtest, ytrain, ytest = train_test_split(X,y,test_size=0.30,random_state=0)"
      ],
      "metadata": {
        "id": "-3HEP02QxKI0"
      },
      "execution_count": 15,
      "outputs": []
    },
    {
      "cell_type": "code",
      "source": [
        "Xtrain = Xtrain.select_dtypes(include = ['int','float'])\n",
        "Xtest = Xtest.select_dtypes(include = ['int','float'])"
      ],
      "metadata": {
        "id": "pQDknDaHaZeI"
      },
      "execution_count": 16,
      "outputs": []
    },
    {
      "cell_type": "code",
      "source": [
        "# Define categorical columns\n",
        "categorical = list(Xtrain.select_dtypes('object').columns)\n",
        "\n",
        "# Define numerical columns\n",
        "numerical = list(Xtrain.select_dtypes('number').columns)"
      ],
      "metadata": {
        "id": "Xr54_W27uVd7"
      },
      "execution_count": 17,
      "outputs": []
    },
    {
      "cell_type": "code",
      "source": [
        "# Define categorical pipeline\n",
        "cat_pipe = Pipeline([\n",
        "    ('imputer', SimpleImputer(strategy='most_frequent')),\n",
        "    ('encoder', TargetEncoder())\n",
        "])\n",
        "\n",
        "# Define numerical pipeline\n",
        "num_pipe = Pipeline([\n",
        "    ('imputer', SimpleImputer(strategy='median'))\n",
        "])\n",
        "\n",
        "# Combine categorical and numerical pipelines\n",
        "preprocessor = ColumnTransformer([\n",
        "    ('cat', cat_pipe, categorical),\n",
        "    ('num', num_pipe, numerical)\n",
        "])\n",
        "\n",
        "#Define the parameters\n",
        "parameters = {'num_leaves':[20,40,60,80,100], 'min_child_samples':[5,10,15],'max_depth':[-1,5,10,20],             \n",
        "              'learning_rate':[0.05,0.1,0.2],'reg_alpha':[0,0.01,0.03]}\n",
        "              \n",
        "pipe = Pipeline([\n",
        "    ('preprocessor', preprocessor),\n",
        "    ('model', RandomizedSearchCV(lgb.LGBMClassifier(class_weight='balanced'),parameters,scoring='f1_weighted',n_iter=100))\n",
        "])\n",
        "\n",
        "pipe.fit(Xtrain, ytrain)\n",
        "\n",
        "# Predict test data\n",
        "ypred = pipe.predict(Xtest)"
      ],
      "metadata": {
        "id": "hd-aVbKFZvxH"
      },
      "execution_count": 18,
      "outputs": []
    },
    {
      "cell_type": "code",
      "source": [
        "# Verificar acurácia do modelo\n",
        "pipe.score(Xtest,ytest)"
      ],
      "metadata": {
        "colab": {
          "base_uri": "https://localhost:8080/"
        },
        "id": "iWrzx1H75td_",
        "outputId": "d90cd115-85a0-4e9d-b822-128539a17f80"
      },
      "execution_count": 19,
      "outputs": [
        {
          "output_type": "execute_result",
          "data": {
            "text/plain": [
              "0.9318672642953475"
            ]
          },
          "metadata": {},
          "execution_count": 19
        }
      ]
    },
    {
      "cell_type": "code",
      "source": [
        "# Matriz de confusão\n",
        "matriz_confusao = confusion_matrix(ytest, ypred)\n",
        "pd.DataFrame(matriz_confusao,index=['Real negativo','Real Verdadeiro'],columns=['Previsto Negativo','Previsto Positivo'])"
      ],
      "metadata": {
        "colab": {
          "base_uri": "https://localhost:8080/",
          "height": 112
        },
        "id": "zntbO1cz524Q",
        "outputId": "c9bae697-a492-4e4d-b451-002192dbed2f"
      },
      "execution_count": 20,
      "outputs": [
        {
          "output_type": "execute_result",
          "data": {
            "text/plain": [
              "                 Previsto Negativo  Previsto Positivo\n",
              "Real negativo                  844                188\n",
              "Real Verdadeiro                184               4248"
            ],
            "text/html": [
              "\n",
              "  <div id=\"df-2aae4cc1-f2c2-4554-9d48-f96ae6482777\">\n",
              "    <div class=\"colab-df-container\">\n",
              "      <div>\n",
              "<style scoped>\n",
              "    .dataframe tbody tr th:only-of-type {\n",
              "        vertical-align: middle;\n",
              "    }\n",
              "\n",
              "    .dataframe tbody tr th {\n",
              "        vertical-align: top;\n",
              "    }\n",
              "\n",
              "    .dataframe thead th {\n",
              "        text-align: right;\n",
              "    }\n",
              "</style>\n",
              "<table border=\"1\" class=\"dataframe\">\n",
              "  <thead>\n",
              "    <tr style=\"text-align: right;\">\n",
              "      <th></th>\n",
              "      <th>Previsto Negativo</th>\n",
              "      <th>Previsto Positivo</th>\n",
              "    </tr>\n",
              "  </thead>\n",
              "  <tbody>\n",
              "    <tr>\n",
              "      <th>Real negativo</th>\n",
              "      <td>844</td>\n",
              "      <td>188</td>\n",
              "    </tr>\n",
              "    <tr>\n",
              "      <th>Real Verdadeiro</th>\n",
              "      <td>184</td>\n",
              "      <td>4248</td>\n",
              "    </tr>\n",
              "  </tbody>\n",
              "</table>\n",
              "</div>\n",
              "      <button class=\"colab-df-convert\" onclick=\"convertToInteractive('df-2aae4cc1-f2c2-4554-9d48-f96ae6482777')\"\n",
              "              title=\"Convert this dataframe to an interactive table.\"\n",
              "              style=\"display:none;\">\n",
              "        \n",
              "  <svg xmlns=\"http://www.w3.org/2000/svg\" height=\"24px\"viewBox=\"0 0 24 24\"\n",
              "       width=\"24px\">\n",
              "    <path d=\"M0 0h24v24H0V0z\" fill=\"none\"/>\n",
              "    <path d=\"M18.56 5.44l.94 2.06.94-2.06 2.06-.94-2.06-.94-.94-2.06-.94 2.06-2.06.94zm-11 1L8.5 8.5l.94-2.06 2.06-.94-2.06-.94L8.5 2.5l-.94 2.06-2.06.94zm10 10l.94 2.06.94-2.06 2.06-.94-2.06-.94-.94-2.06-.94 2.06-2.06.94z\"/><path d=\"M17.41 7.96l-1.37-1.37c-.4-.4-.92-.59-1.43-.59-.52 0-1.04.2-1.43.59L10.3 9.45l-7.72 7.72c-.78.78-.78 2.05 0 2.83L4 21.41c.39.39.9.59 1.41.59.51 0 1.02-.2 1.41-.59l7.78-7.78 2.81-2.81c.8-.78.8-2.07 0-2.86zM5.41 20L4 18.59l7.72-7.72 1.47 1.35L5.41 20z\"/>\n",
              "  </svg>\n",
              "      </button>\n",
              "      \n",
              "  <style>\n",
              "    .colab-df-container {\n",
              "      display:flex;\n",
              "      flex-wrap:wrap;\n",
              "      gap: 12px;\n",
              "    }\n",
              "\n",
              "    .colab-df-convert {\n",
              "      background-color: #E8F0FE;\n",
              "      border: none;\n",
              "      border-radius: 50%;\n",
              "      cursor: pointer;\n",
              "      display: none;\n",
              "      fill: #1967D2;\n",
              "      height: 32px;\n",
              "      padding: 0 0 0 0;\n",
              "      width: 32px;\n",
              "    }\n",
              "\n",
              "    .colab-df-convert:hover {\n",
              "      background-color: #E2EBFA;\n",
              "      box-shadow: 0px 1px 2px rgba(60, 64, 67, 0.3), 0px 1px 3px 1px rgba(60, 64, 67, 0.15);\n",
              "      fill: #174EA6;\n",
              "    }\n",
              "\n",
              "    [theme=dark] .colab-df-convert {\n",
              "      background-color: #3B4455;\n",
              "      fill: #D2E3FC;\n",
              "    }\n",
              "\n",
              "    [theme=dark] .colab-df-convert:hover {\n",
              "      background-color: #434B5C;\n",
              "      box-shadow: 0px 1px 3px 1px rgba(0, 0, 0, 0.15);\n",
              "      filter: drop-shadow(0px 1px 2px rgba(0, 0, 0, 0.3));\n",
              "      fill: #FFFFFF;\n",
              "    }\n",
              "  </style>\n",
              "\n",
              "      <script>\n",
              "        const buttonEl =\n",
              "          document.querySelector('#df-2aae4cc1-f2c2-4554-9d48-f96ae6482777 button.colab-df-convert');\n",
              "        buttonEl.style.display =\n",
              "          google.colab.kernel.accessAllowed ? 'block' : 'none';\n",
              "\n",
              "        async function convertToInteractive(key) {\n",
              "          const element = document.querySelector('#df-2aae4cc1-f2c2-4554-9d48-f96ae6482777');\n",
              "          const dataTable =\n",
              "            await google.colab.kernel.invokeFunction('convertToInteractive',\n",
              "                                                     [key], {});\n",
              "          if (!dataTable) return;\n",
              "\n",
              "          const docLinkHtml = 'Like what you see? Visit the ' +\n",
              "            '<a target=\"_blank\" href=https://colab.research.google.com/notebooks/data_table.ipynb>data table notebook</a>'\n",
              "            + ' to learn more about interactive tables.';\n",
              "          element.innerHTML = '';\n",
              "          dataTable['output_type'] = 'display_data';\n",
              "          await google.colab.output.renderOutput(dataTable, element);\n",
              "          const docLink = document.createElement('div');\n",
              "          docLink.innerHTML = docLinkHtml;\n",
              "          element.appendChild(docLink);\n",
              "        }\n",
              "      </script>\n",
              "    </div>\n",
              "  </div>\n",
              "  "
            ]
          },
          "metadata": {},
          "execution_count": 20
        }
      ]
    },
    {
      "cell_type": "code",
      "source": [
        "# Outras métricas\n",
        "print(classification_report(ytest, ypred))"
      ],
      "metadata": {
        "id": "hDTo5gOB5zxm",
        "colab": {
          "base_uri": "https://localhost:8080/"
        },
        "outputId": "273e4eda-e001-4108-b849-0a1bfac855b4"
      },
      "execution_count": 21,
      "outputs": [
        {
          "output_type": "stream",
          "name": "stdout",
          "text": [
            "              precision    recall  f1-score   support\n",
            "\n",
            "           0       0.82      0.82      0.82      1032\n",
            "           1       0.96      0.96      0.96      4432\n",
            "\n",
            "    accuracy                           0.93      5464\n",
            "   macro avg       0.89      0.89      0.89      5464\n",
            "weighted avg       0.93      0.93      0.93      5464\n",
            "\n"
          ]
        }
      ]
    },
    {
      "cell_type": "code",
      "source": [
        "# Computa probabilidades\n",
        "y_pred_prob = pipe.predict_proba(Xtest)[:,1]\n",
        "\n",
        "# Gera fpr, tpr e thresholds\n",
        "fpr, tpr, thresholds = roc_curve(ytest, y_pred_prob)\n",
        "auc_value = roc_auc_score(ytest, y_pred_prob)\n",
        "plt.plot(fpr, tpr, color='blue', label='ROC curve (area = %0.2f)' % auc_value)\n",
        "# curva ROC\n",
        "plt.plot([0, 1], [0, 1], 'k--')\n",
        "plt.xlabel('False Positive Rate')\n",
        "plt.ylabel('True Positive Rate')\n",
        "plt.title('ROC Curve')\n",
        "plt.legend()\n",
        "plt.show()"
      ],
      "metadata": {
        "id": "fwIQYYjzbMcH",
        "colab": {
          "base_uri": "https://localhost:8080/",
          "height": 295
        },
        "outputId": "a7046c85-2a08-4ff8-d30a-787d74af3bd0"
      },
      "execution_count": 22,
      "outputs": [
        {
          "output_type": "display_data",
          "data": {
            "text/plain": [
              "<Figure size 432x288 with 1 Axes>"
            ],
            "image/png": "[encoded data removed]"
          },
          "metadata": {
            "needs_background": "light"
          }
        }
      ]
    }
  ]
}